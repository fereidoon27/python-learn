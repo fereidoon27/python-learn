{
 "cells": [
  {
   "cell_type": "markdown",
   "id": "title-section",
   "metadata": {},
   "source": [
    "# 🐍 Python Programming Reference\n",
    "\n",
    "A comprehensive guide to Python programming concepts, syntax, and best practices.\n",
    "\n",
    "## Table of Contents\n",
    "1. [Number Systems](#number-systems)\n",
    "2. [Naming Conventions](#naming-conventions)\n",
    "3. [Variables and References](#variables-and-references)\n",
    "4. [Data Types](#data-types)\n",
    "   - [Numbers (int, float)](#numbers)\n",
    "   - [Strings](#strings)\n",
    "   - [Lists and Tuples](#lists-and-tuples)\n",
    "   - [Dictionaries](#dictionaries)\n",
    "   - [Sets](#sets)\n",
    "5. [Unpacking and Packing](#unpacking-and-packing)\n",
    "6. [Code Style](#code-style)"
   ]
  },
  {
   "cell_type": "markdown",
   "id": "number-systems",
   "metadata": {},
   "source": [
    "## 1. Number Systems <a id=\"number-systems\"></a>\n",
    "\n",
    "Python supports multiple number systems using prefixes:"
   ]
  },
  {
   "cell_type": "code",
   "execution_count": 15,
   "id": "number-systems-code",
   "metadata": {},
   "outputs": [
    {
     "data": {
      "text/plain": [
       "26"
      ]
     },
     "execution_count": 15,
     "metadata": {},
     "output_type": "execute_result"
    }
   ],
   "source": [
    "# Binary (0b prefix)\n",
    "binary = 0b10  # 2 in decimal\n",
    "\n",
    "# Octal (0o prefix)\n",
    "octal = 0o10   # 8 in decimal\n",
    "\n",
    "# Hexadecimal (0x prefix)\n",
    "hexadecimal = 0x10  # 16 in decimal\n",
    "\n",
    "# Adding numbers in different bases\n",
    "0b10 + 0o10 + 0x10  # 2 + 8 + 16 = 26"
   ]
  },
  {
   "cell_type": "markdown",
   "id": "naming-conventions",
   "metadata": {},
   "source": [
    "## 2. Naming Conventions <a id=\"naming-conventions\"></a>\n",
    "\n",
    "Python has several common naming conventions:\n",
    "\n",
    "- **Camel Case**: `numberOfCollegeGraduates` (variables, functions)\n",
    "- **Pascal Case**: `NumberOfCollegeGraduates` (classes)\n",
    "- **Snake Case**: `number_of_college_graduates` (variables, functions - preferred in Python)\n",
    "\n",
    "### Constants in Python\n",
    "By convention, constants are written in all capital letters with underscores:\n",
    "\n",
    "```python\n",
    "PI = 3.14159\n",
    "MAX_SIZE = 100\n",
    "```\n",
    "\n",
    "These conventions are specified in [PEP 8](https://peps.python.org/pep-0008/), Python's official style guide."
   ]
  },
  {
   "cell_type": "markdown",
   "id": "variables-section",
   "metadata": {},
   "source": [
    "## 3. Variables and References <a id=\"variables-and-references\"></a>\n",
    "\n",
    "### Understanding Variable References\n",
    "\n",
    "**Pitfall**: Assigning one variable to another doesn't create a new object. It just creates a new reference to the same object."
   ]
  },
  {
   "cell_type": "code",
   "execution_count": 16,
   "id": "variable-references-code",
   "metadata": {},
   "outputs": [
    {
     "data": {
      "text/plain": [
       "True"
      ]
     },
     "execution_count": 16,
     "metadata": {},
     "output_type": "execute_result"
    }
   ],
   "source": [
    "# Example of variable references\n",
    "a = 10\n",
    "b = a  # b references the same object as a\n",
    "c = b  # c references the same object as a and b\n",
    "\n",
    "# Checking if variables reference the same object\n",
    "a is b  # Returns True"
   ]
  },
  {
   "cell_type": "markdown",
   "id": "data-types-intro",
   "metadata": {},
   "source": [
    "## 4. Data Types <a id=\"data-types\"></a>"
   ]
  },
  {
   "cell_type": "markdown",
   "id": "numbers-section",
   "metadata": {},
   "source": [
    "### Numbers (int, float) <a id=\"numbers\"></a>\n",
    "\n",
    "#### Floating-Point Precision Issues"
   ]
  },
  {
   "cell_type": "code",
   "execution_count": 17,
   "id": "float-precision-code",
   "metadata": {},
   "outputs": [
    {
     "data": {
      "text/plain": [
       "True"
      ]
     },
     "execution_count": 17,
     "metadata": {},
     "output_type": "execute_result"
    }
   ],
   "source": [
    "# Floating-point arithmetic isn't always exact\n",
    "0.1 + 0.1 + 0.1 == 0.3  # Returns False\n",
    "\n",
    "# Using math.isclose for float comparisons\n",
    "import math\n",
    "math.isclose(0.1 + 0.1 + 0.1, 0.3)  # Returns True"
   ]
  },
  {
   "cell_type": "code",
   "execution_count": 18,
   "id": "int-float-conversions",
   "metadata": {},
   "outputs": [
    {
     "name": "stdout",
     "output_type": "stream",
     "text": [
      "Error: invalid literal for int() with base 10: '4.2'\n"
     ]
    },
    {
     "data": {
      "text/plain": [
       "float"
      ]
     },
     "execution_count": 18,
     "metadata": {},
     "output_type": "execute_result"
    }
   ],
   "source": [
    "# int() doesn't automatically handle string with decimal point\n",
    "try:\n",
    "    int('4.2')  # Raises ValueError\n",
    "except ValueError as e:\n",
    "    print(f\"Error: {e}\")\n",
    "    \n",
    "# Correct way to convert string with decimal to int\n",
    "int(float('4.2'))  # Works correctly\n",
    "\n",
    "# Scientific notation creates float\n",
    "type(4e7)  # Returns float"
   ]
  },
  {
   "cell_type": "markdown",
   "id": "operators-section",
   "metadata": {},
   "source": [
    "#### Common Numeric Operations\n",
    "\n",
    "- **Floor Division (`//`)**: Divides and returns the integer result (truncated)\n",
    "  - Example: `7 // 3` results in `2`\n",
    "   \n",
    "- **Exponentiation (`**`)**: Raises a number to a power\n",
    "  - Example: `3 ** 2` results in `9`\n",
    "\n",
    "- **Add and assign (`+=`)**: Adds and updates in one operation\n",
    "  - Example: `x += 3` is equivalent to `x = x + 3`"
   ]
  },
  {
   "cell_type": "markdown",
   "id": "strings-section",
   "metadata": {},
   "source": [
    "### Strings <a id=\"strings\"></a>\n",
    "\n",
    "#### String Creation and Formatting"
   ]
  },
  {
   "cell_type": "code",
   "execution_count": 19,
   "id": "string-creation-code",
   "metadata": {},
   "outputs": [
    {
     "name": "stdout",
     "output_type": "stream",
     "text": [
      "\n",
      "This is a\n",
      "multi-line string \n",
      "\n",
      "foo\\\\bar\\n\n",
      "C:\\Users\\Bob\\Documents\n",
      "C:\\Users\\Bob\\Documents\n",
      "a b c\n"
     ]
    }
   ],
   "source": [
    "# Multi-line strings with triple quotes\n",
    "multiline_string = \"\"\"\n",
    "This is a\n",
    "multi-line string \n",
    "\"\"\"\n",
    "print(multiline_string)\n",
    "\n",
    "# Raw strings ignore escape sequences (prefixed with r)\n",
    "raw_string = r'foo\\\\bar\\n'  # Backslashes and \\n treated as literal characters\n",
    "print(raw_string)\n",
    "\n",
    "# File paths (using raw strings avoids escape sequence issues)\n",
    "path1 = \"C:\\\\Users\\\\Bob\\\\Documents\"  # Using escaped backslashes\n",
    "path2 = r\"C:\\Users\\Bob\\Documents\"    # Using raw string\n",
    "print(path1)\n",
    "print(path2)\n",
    "\n",
    "# Line continuation in strings with backslash\n",
    "continued_string = 'a\\\n",
    " b\\\n",
    " c\\\n",
    "'\n",
    "print(continued_string)  # Prints \"a b c\""
   ]
  },
  {
   "cell_type": "code",
   "execution_count": 20,
   "id": "string-methods-code",
   "metadata": {},
   "outputs": [
    {
     "name": "stdout",
     "output_type": "stream",
     "text": [
      "['  hello', 'world  ']\n",
      "8\n",
      "hello,world\n",
      "  hello,Python  \n"
     ]
    }
   ],
   "source": [
    "# Common String Methods (strings are immutable)\n",
    "text = \"  hello,world  \"\n",
    "\n",
    "# Split string into list\n",
    "print(text.split(\",\"))  # ['  hello', 'world  ']\n",
    "\n",
    "# Find substring index\n",
    "print(text.find(\"world\"))  # 8\n",
    "\n",
    "# Remove whitespace from beginning and end\n",
    "print(text.strip())  # \"hello,world\"\n",
    "\n",
    "# Replace substring\n",
    "print(text.replace(\"world\", \"Python\"))  # \"  hello,Python  \""
   ]
  },
  {
   "cell_type": "markdown",
   "id": "escape-sequences",
   "metadata": {},
   "source": [
    "#### String Escape Sequences\n",
    "\n",
    "- `\\t`: Tab\n",
    "- `\\n`: Newline\n",
    "- `\\\\`: Backslash\n",
    "- `\\'`: Single quote\n",
    "- `\\\"`: Double quote"
   ]
  },
  {
   "cell_type": "markdown",
   "id": "string-slicing",
   "metadata": {},
   "source": [
    "#### String Slicing and Indexing\n",
    "\n",
    "The general syntax is `string[start:stop:step]`, where:\n",
    "\n",
    "- `start` is the starting index (**inclusive**)\n",
    "- `stop` is the ending index (**exclusive**)\n",
    "- `step` is the interval between characters\n",
    "\n",
    "To **reverse** a string, a common approach is: `s[::-1]`"
   ]
  },
  {
   "cell_type": "markdown",
   "id": "string-formatting",
   "metadata": {},
   "source": [
    "#### String Formatting\n",
    "\n",
    "There are multiple ways to format strings in Python:"
   ]
  },
  {
   "cell_type": "code",
   "execution_count": 21,
   "id": "format-method-code",
   "metadata": {},
   "outputs": [
    {
     "name": "stdout",
     "output_type": "stream",
     "text": [
      "In ten years, {name} will be {age} years old.\n",
      "In ten years, Hamidreza will be 32 years old.\n"
     ]
    }
   ],
   "source": [
    "# 1. .format() method\n",
    "name = \"Hamidreza\"\n",
    "age = 22\n",
    "template = 'In ten years, {name} will be {age} years old.'\n",
    "print(template)  # Shows the template with placeholders\n",
    "formatted_string = template.format(name=name, age=age+10)\n",
    "print(formatted_string)"
   ]
  },
  {
   "cell_type": "code",
   "execution_count": 22,
   "id": "f-strings-code",
   "metadata": {},
   "outputs": [
    {
     "name": "stdout",
     "output_type": "stream",
     "text": [
      "In ten years, Hamidreza will be 32 years old.\n"
     ]
    }
   ],
   "source": [
    "# 2. f-strings (Python 3.6+)\n",
    "name = \"Hamidreza\"\n",
    "age = 22\n",
    "f_string = f\"In ten years, {name} will be {age + 10} years old.\"\n",
    "print(f_string)"
   ]
  },
  {
   "cell_type": "markdown",
   "id": "lists-tuples-section",
   "metadata": {},
   "source": [
    "### Lists and Tuples <a id=\"lists-and-tuples\"></a>\n",
    "\n",
    "#### Lists (Mutable Sequences)"
   ]
  },
  {
   "cell_type": "code",
   "execution_count": 23,
   "id": "list-creation-code",
   "metadata": {},
   "outputs": [
    {
     "data": {
      "text/plain": [
       "[0, 1, 2, 3, 4]"
      ]
     },
     "execution_count": 23,
     "metadata": {},
     "output_type": "execute_result"
    }
   ],
   "source": [
    "# Different ways to create lists\n",
    "empty_list1 = list()       # Using the list constructor\n",
    "empty_list2 = []           # Using square brackets\n",
    "set_to_list = list({3, 1, 2})  # Convert set to list\n",
    "none_list = [None] * 10    # Create list with 10 None values\n",
    "consecutive_numbers = list(range(10))  # List of numbers 0-9\n",
    "\n",
    "list(\"hello\")            # ['h', 'e', 'l', 'l', 'o']\n",
    "list((1, 2, 3))           # [1, 2, 3]\n",
    "list({4, 5, 6})           # [4, 5, 6]\n",
    "list({'a': 1, 'b': 2})    # ['a', 'b'] → keys of dict\n",
    "list(range(5))            # [0, 1, 2, 3, 4]\n"
   ]
  },
  {
   "cell_type": "code",
   "execution_count": 24,
   "id": "list-operations-code",
   "metadata": {},
   "outputs": [],
   "source": [
    "# Accessing and Modifying List Elements\n",
    "fruits = ['apple', 'banana', 'cherry', 'date']\n",
    "\n",
    "# Add element to end\n",
    "fruits.append('elderberry')\n",
    "\n",
    "# Add multiple elements to end\n",
    "more_fruits = ['fig', 'grape']\n",
    "fruits.extend(more_fruits)\n",
    "\n",
    "# Insert at specific position (not efficient for large lists)\n",
    "fruits.insert(2, 'apricot')\n",
    "\n",
    "# Remove and return element at index (not efficient for large lists)\n",
    "popped_fruit = fruits.pop(2)\n",
    "\n",
    "# Remove first occurrence of value (not efficient for large lists)\n",
    "fruits.remove('cherry')\n",
    "\n",
    "# Delete elements or slices\n",
    "del fruits[1:3]\n",
    "\n",
    "# Find index of first occurrence (check if 'banana' exists first)\n",
    "if 'banana' in fruits:\n",
    "\tbanana_index = fruits.index('banana')\n",
    "else:\n",
    "\tbanana_index = None  # Handle case where 'banana' is not in the list\n",
    "\n",
    "# Count occurrences\n",
    "banana_count = fruits.count('banana')"
   ]
  },
  {
   "cell_type": "code",
   "execution_count": 25,
   "id": "list-sorting-code",
   "metadata": {},
   "outputs": [
    {
     "name": "stdout",
     "output_type": "stream",
     "text": [
      "[2, 5, 10, 14, 34]\n",
      "[2, 5, 10, 14, 34]\n",
      "[10, 2, 34, 14, 5]\n",
      "[34, 14, 10, 5, 2]\n",
      "[4, 3, 2, 1]\n",
      "[4, 3, 2, 1]\n"
     ]
    }
   ],
   "source": [
    "# Sorting and Reversing Lists\n",
    "numbers = [10, 2, 34, 14, 5]\n",
    "\n",
    "# Sort list in-place\n",
    "numbers.sort()\n",
    "print(numbers)  # [2, 5, 10, 14, 34]\n",
    "\n",
    "# Create new sorted list without altering original\n",
    "unsorted = [10, 2, 34, 14, 5]\n",
    "sorted_numbers = sorted(unsorted)\n",
    "print(sorted_numbers)  # [2, 5, 10, 14, 34]\n",
    "print(unsorted)        # Original list unchanged: [10, 2, 34, 14, 5]\n",
    "\n",
    "# Reverse list in-place\n",
    "numbers.reverse()\n",
    "print(numbers)  # [34, 14, 10, 5, 2]\n",
    "\n",
    "# Create reversed list without altering original\n",
    "original = [1, 2, 3, 4]\n",
    "reversed_list1 = list(reversed(original))  # Using reversed() function\n",
    "reversed_list2 = original[::-1]            # Using slice notation\n",
    "print(reversed_list1)  # [4, 3, 2, 1]\n",
    "print(reversed_list2)  # [4, 3, 2, 1]"
   ]
  },
  {
   "cell_type": "markdown",
   "id": "tuples-section",
   "metadata": {},
   "source": [
    "#### Tuples (Immutable Sequences)"
   ]
  },
  {
   "cell_type": "code",
   "execution_count": 26,
   "id": "tuple-creation-code",
   "metadata": {},
   "outputs": [
    {
     "name": "stdout",
     "output_type": "stream",
     "text": [
      "(1, 2, 3, 4, 5, 6)\n"
     ]
    }
   ],
   "source": [
    "# Creating tuples\n",
    "empty_tuple = ()\n",
    "single_element_tuple = (4,)  # Note the comma - required for single-element tuples\n",
    "tuple1 = (1, 2, 3)\n",
    "tuple2 = (4, 5, 6)\n",
    "\n",
    "# Concatenating tuples (creates a new tuple)\n",
    "combined_tuple = tuple1 + tuple2\n",
    "print(combined_tuple)  # (1, 2, 3, 4, 5, 6)"
   ]
  },
  {
   "cell_type": "markdown",
   "id": "dictionaries-section",
   "metadata": {},
   "source": [
    "### Dictionaries <a id=\"dictionaries\"></a>\n",
    "\n",
    "Dictionaries are mutable key-value pair collections."
   ]
  },
  {
   "cell_type": "code",
   "execution_count": 27,
   "id": "dict-creation-code",
   "metadata": {},
   "outputs": [
    {
     "name": "stdout",
     "output_type": "stream",
     "text": [
      "Not specified\n"
     ]
    }
   ],
   "source": [
    "# Creating dictionaries\n",
    "empty_dict1 = dict()\n",
    "empty_dict2 = {}\n",
    "person_info = {'name': 'Alice', 'age': 30, 'city': 'New York'}\n",
    "\n",
    "# Using get() to retrieve a value with a default if key doesn't exist\n",
    "occupation = person_info.get('occupation', 'Not specified')\n",
    "print(occupation)  # 'Not specified'"
   ]
  },
  {
   "cell_type": "code",
   "execution_count": 28,
   "id": "dict-update-code",
   "metadata": {},
   "outputs": [
    {
     "name": "stdout",
     "output_type": "stream",
     "text": [
      "{'AAPL': 200, 'GOOG': 25, 'TSLA': 50}\n",
      "{'AAPL': 200, 'GOOG': 25, 'TSLA': 50, 'MSFT': 75, 'NVDA': 100, 'AMZN': 30}\n"
     ]
    }
   ],
   "source": [
    "# Creating a dictionary with a list of tuples\n",
    "portfolio = dict([('AAPL', 100), ('GOOG', 25)])\n",
    "\n",
    "# Updating multiple values at once\n",
    "portfolio.update({'TSLA': 50, 'AAPL': 200})  # Updates 'AAPL' and adds 'TSLA'\n",
    "print(portfolio)  # {'AAPL': 200, 'GOOG': 25, 'TSLA': 50}\n",
    "\n",
    "# Adding a new key-value pair\n",
    "portfolio['MSFT'] = 75\n",
    "\n",
    "# Another way to update using keyword arguments\n",
    "portfolio.update(NVDA=100, AMZN=30)\n",
    "print(portfolio)"
   ]
  },
  {
   "cell_type": "markdown",
   "id": "sets-section",
   "metadata": {},
   "source": [
    "### Sets <a id=\"sets\"></a>\n",
    "\n",
    "Sets are unordered collections of unique elements."
   ]
  },
  {
   "cell_type": "code",
   "execution_count": 29,
   "id": "set-creation-code",
   "metadata": {},
   "outputs": [
    {
     "name": "stdout",
     "output_type": "stream",
     "text": [
      "{'i', 'ha', ':))))', 'hello', '.', 'feri', 'am'}\n",
      "{'i', 'ha', ':))))', 9, 'new_word', 10, '3', 'hello', '.', 'feri', '1', 'am', '2'}\n"
     ]
    }
   ],
   "source": [
    "# Creating sets\n",
    "empty_set = set()  # Note: {} creates an empty dict, not a set\n",
    "words = set('hello hello i am feri . ha ha ha ha . :)))) '.split())\n",
    "print(words)  # Each word appears only once\n",
    "\n",
    "# Adding elements\n",
    "words.add('new_word')\n",
    "\n",
    "# Adding multiple elements\n",
    "another_set = {'1', '2', '3'}\n",
    "words.update(another_set)  # Add elements from another set\n",
    "\n",
    "# Union operator\n",
    "words |= {9, 10}  # Add elements using the union operator\n",
    "print(words)"
   ]
  },
  {
   "cell_type": "code",
   "execution_count": 30,
   "id": "set-operations-code",
   "metadata": {},
   "outputs": [
    {
     "name": "stdout",
     "output_type": "stream",
     "text": [
      "KeyError: 'nonexistent'\n",
      "set()\n"
     ]
    }
   ],
   "source": [
    "# Removing elements (different methods)\n",
    "try:\n",
    "    # .remove() raises KeyError if element doesn't exist\n",
    "    words.remove('nonexistent')\n",
    "except KeyError as e:\n",
    "    print(f\"KeyError: {e}\")\n",
    "    \n",
    "# .discard() doesn't raise an error if element doesn't exist\n",
    "words.discard('nonexistent')  # No error\n",
    "\n",
    "# Clear all elements\n",
    "words.clear()\n",
    "print(words)  # set()"
   ]
  },
  {
   "cell_type": "markdown",
   "id": "set-performance",
   "metadata": {},
   "source": [
    "#### Sets vs. Lists for Membership Testing\n",
    "\n",
    "Sets have much faster lookup times than lists for membership testing because they use hash tables internally."
   ]
  },
  {
   "cell_type": "code",
   "execution_count": 31,
   "id": "set-vs-list-code",
   "metadata": {},
   "outputs": [
    {
     "name": "stdout",
     "output_type": "stream",
     "text": [
      "31.7 μs ± 174 ns per loop (mean ± std. dev. of 7 runs, 10,000 loops each)\n",
      "24.6 ns ± 0.197 ns per loop (mean ± std. dev. of 7 runs, 10,000,000 loops each)\n"
     ]
    }
   ],
   "source": [
    "# Comparing lookup speed\n",
    "import timeit\n",
    "\n",
    "# Create a large list and set with the same elements\n",
    "large_list = list(range(10000))\n",
    "large_set = set(range(10000))\n",
    "\n",
    "# Time list lookup (O(n) operation)\n",
    "%timeit 5000 in large_list\n",
    "\n",
    "# Time set lookup (O(1) operation)\n",
    "%timeit 5000 in large_set"
   ]
  },
  {
   "cell_type": "code",
   "execution_count": 32,
   "id": "set-operations-examples",
   "metadata": {},
   "outputs": [
    {
     "name": "stdout",
     "output_type": "stream",
     "text": [
      "{1, 2, 3, 4, 5}\n",
      "{1, 2, 3, 4, 5}\n",
      "{3}\n",
      "{3}\n",
      "{1, 2}\n",
      "{1, 2}\n",
      "{1, 2, 4, 5}\n",
      "{1, 2, 4, 5}\n",
      "frozenset({1, 2, 3, 4, 5})\n"
     ]
    }
   ],
   "source": [
    "# Set operations\n",
    "set_a = {1, 2, 3}\n",
    "set_b = {3, 4, 5}\n",
    "\n",
    "# Union (all elements from both sets)\n",
    "print(set_a | set_b)  # {1, 2, 3, 4, 5}\n",
    "print(set_a.union(set_b))  # Same result\n",
    "\n",
    "# Intersection (elements common to both sets)\n",
    "print(set_a & set_b)  # {3}\n",
    "print(set_a.intersection(set_b))  # Same result\n",
    "\n",
    "# Difference (elements in first set but not in second)\n",
    "print(set_a - set_b)  # {1, 2}\n",
    "print(set_a.difference(set_b))  # Same result\n",
    "\n",
    "# Symmetric difference (elements in either set, but not both)\n",
    "print(set_a ^ set_b)  # {1, 2, 4, 5}\n",
    "print(set_a.symmetric_difference(set_b))  # Same result\n",
    "\n",
    "# Immutable sets (frozensets)\n",
    "frozen = frozenset([1, 2, 3, 4, 5])\n",
    "print(frozen)  # frozenset({1, 2, 3, 4, 5})"
   ]
  },
  {
   "cell_type": "markdown",
   "id": "unpacking-section",
   "metadata": {},
   "source": [
    "## 5. Unpacking and Packing <a id=\"unpacking-and-packing\"></a>"
   ]
  },
  {
   "cell_type": "code",
   "execution_count": 33,
   "id": "tuple-unpacking-code",
   "metadata": {},
   "outputs": [
    {
     "name": "stdout",
     "output_type": "stream",
     "text": [
      "x=7, y=14, z=21\n"
     ]
    }
   ],
   "source": [
    "# Unpacking a tuple into variables\n",
    "point = (7, 14, 21)\n",
    "x, y, z = point\n",
    "print(f\"x={x}, y={y}, z={z}\")  # x=7, y=14, z=21"
   ]
  },
  {
   "cell_type": "code",
   "execution_count": 34,
   "id": "array-packing-code",
   "metadata": {},
   "outputs": [
    {
     "name": "stdout",
     "output_type": "stream",
     "text": [
      "Packed NumPy array: [1 2 3 4 5]\n"
     ]
    }
   ],
   "source": [
    "import numpy as np\n",
    "# Packing data into a NumPy array\n",
    "data_array = np.array([1, 2, 3, 4, 5])\n",
    "print(\"Packed NumPy array:\", data_array)"
   ]
  },
  {
   "cell_type": "code",
   "execution_count": 35,
   "id": "star-unpacking-code",
   "metadata": {},
   "outputs": [
    {
     "name": "stdout",
     "output_type": "stream",
     "text": [
      "First: 1\n",
      "Middle: [2, 3, 4, 5]\n",
      "Last: 6\n"
     ]
    }
   ],
   "source": [
    "# Using * for unpacking sequences\n",
    "numbers = (1, 2, 3, 4, 5, 6)\n",
    "# Unpacking the first and the last value, capturing the rest with *\n",
    "first, *middle, last = numbers\n",
    "print(\"First:\", first)    # First: 1\n",
    "print(\"Middle:\", middle)  # Middle: [2, 3, 4, 5]\n",
    "print(\"Last:\", last)      # Last: 6"
   ]
  },
  {
   "cell_type": "code",
   "execution_count": 36,
   "id": "dict-unpacking-code",
   "metadata": {},
   "outputs": [
    {
     "name": "stdout",
     "output_type": "stream",
     "text": [
      "{'Math': 90, 'English': 92, 'Science': 88, 'History': 94}\n"
     ]
    }
   ],
   "source": [
    "# Unpacking dictionaries with **\n",
    "student_grades_1 = {'Math': 90, 'English': 92}\n",
    "student_grades_2 = {'Science': 88, 'History': 94}\n",
    "\n",
    "# Merging dictionaries (Python 3.5+)\n",
    "combined_grades = {**student_grades_1, **student_grades_2}\n",
    "print(combined_grades)  # {'Math': 90, 'English': 92, 'Science': 88, 'History': 94}\n",
    "\n",
    "# Python 3.9+ alternative\n",
    "# combined_grades = student_grades_1 | student_grades_2"
   ]
  },
  {
   "cell_type": "markdown",
   "id": "code-style-section",
   "metadata": {},
   "source": [
    "## 6. Code Style <a id=\"code-style\"></a>"
   ]
  },
  {
   "cell_type": "code",
   "execution_count": 37,
   "id": "line-continuation-code",
   "metadata": {},
   "outputs": [
    {
     "name": "stdout",
     "output_type": "stream",
     "text": [
      "10\n",
      "This is a really long string that just keeps going and going and doesn't seem to stop anywhere soon.\n"
     ]
    }
   ],
   "source": [
    "# Explicit Line Continuation with \\\n",
    "a, b, c, d = 1, 2, 3, 4\n",
    "total = a + b + \\\n",
    "        c + d\n",
    "print(total)  # 10\n",
    "\n",
    "# A lengthy string with line continuation\n",
    "long_string = \"This is a really long string that just keeps going \" \\\n",
    "              \"and going and doesn't seem to stop anywhere soon.\"\n",
    "print(long_string)"
   ]
  },
  {
   "cell_type": "code",
   "execution_count": 38,
   "id": "docstring-code",
   "metadata": {},
   "outputs": [
    {
     "name": "stdout",
     "output_type": "stream",
     "text": [
      "\n",
      "    Add two numbers and return the result.\n",
      "\n",
      "    Parameters:\n",
      "    a (int): The first number to add.\n",
      "    b (int): The second number to add.\n",
      "\n",
      "    Returns:\n",
      "    int: The sum of a and b.\n",
      "    \n"
     ]
    }
   ],
   "source": [
    "# Docstrings - Documentation for functions, classes, and modules\n",
    "def add(a, b):\n",
    "    \"\"\"\n",
    "    Add two numbers and return the result.\n",
    "\n",
    "    Parameters:\n",
    "    a (int): The first number to add.\n",
    "    b (int): The second number to add.\n",
    "\n",
    "    Returns:\n",
    "    int: The sum of a and b.\n",
    "    \"\"\"\n",
    "    return a + b\n",
    "\n",
    "# Access the docstring\n",
    "print(add.__doc__)"
   ]
  }
 ],
 "metadata": {
  "kernelspec": {
   "display_name": "py10",
   "language": "python",
   "name": "python3"
  },
  "language_info": {
   "codemirror_mode": {
    "name": "ipython",
    "version": 3
   },
   "file_extension": ".py",
   "mimetype": "text/x-python",
   "name": "python",
   "nbconvert_exporter": "python",
   "pygments_lexer": "ipython3",
   "version": "3.10.15"
  }
 },
 "nbformat": 4,
 "nbformat_minor": 5
}
